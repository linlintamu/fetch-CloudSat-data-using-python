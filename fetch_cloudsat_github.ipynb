{
 "cells": [
  {
   "cell_type": "markdown",
   "metadata": {},
   "source": [
    "## test to fetch cloudsat data from ftp server\n",
    "\n",
    "Lin Lin at Texas A&M Univeristy, 2020 summer\n",
    "\n",
    "contact: linlin@tamu.edu"
   ]
  },
  {
   "cell_type": "code",
   "execution_count": 65,
   "metadata": {},
   "outputs": [],
   "source": [
    "import ftplib\n",
    "import numpy as np\n",
    "import os"
   ]
  },
  {
   "cell_type": "code",
   "execution_count": 86,
   "metadata": {},
   "outputs": [],
   "source": [
    "## wrap up\n",
    "\n",
    "def cloudsat_data_fetch_ftp(product,year_start,day_start,day_stop):\n",
    "    \"\"\"\n",
    "    used to fetch cloudsat data from ftp server\n",
    "    choose the product you would love to download\n",
    "    year\n",
    "    day\n",
    "    \"\"\"\n",
    "    \n",
    "    ##----Open ftp connection----##\n",
    "    server = 'ftp1.cloudsat.cira.colostate.edu'\n",
    "    \n",
    "    ##----need your input----##\n",
    "    user   = your_user_name_in_string\n",
    "    psd    = your_password_in_string\n",
    "    \n",
    "    ftp = ftplib.FTP(server, user, psd)\n",
    "    \n",
    "    ftp.cwd(\"/\"+product.strip())\n",
    "    \n",
    "    if not os.path.exists(product.strip()):\n",
    "        os.mkdir(product.strip())\n",
    "    else:\n",
    "        pass\n",
    "    \n",
    "    ftp.cwd(year_start.strip())\n",
    "    \n",
    "    daylist = ftp.nlst() # get filenames within the directory\n",
    "     \n",
    "    for day in np.arange(int(day_start),int(day_stop)+1,1):\n",
    "        if '{:03}'.format(day) in daylist:\n",
    "            ftp.cwd('{:03}'.format(day))\n",
    "            filelist = ftp.nlst() # get filenames within the directory\n",
    "        \n",
    "            for filename in filelist:\n",
    "                \n",
    "                local_filename = os.path.join(product.strip(), filename)\n",
    "                file = open(local_filename, 'wb')\n",
    "                ftp.retrbinary('RETR '+ filename, file.write)\n",
    "\n",
    "                file.close()\n",
    "                \n",
    "            ftp.cwd('../')\n",
    "            \n",
    "            \n",
    "    ftp.quit()\n",
    "    print(\"download complete.\")\n",
    "    "
   ]
  },
  {
   "cell_type": "code",
   "execution_count": null,
   "metadata": {},
   "outputs": [],
   "source": [
    "## example\n",
    "\n",
    "cloudsat_data_fetch_ftp(product='2B-GEOPROF-LIDAR.P2_R05',year_start='2017',day_start='001',day_stop='366')"
   ]
  },
  {
   "cell_type": "code",
   "execution_count": null,
   "metadata": {},
   "outputs": [],
   "source": []
  }
 ],
 "metadata": {
  "kernelspec": {
   "display_name": "Python 3",
   "language": "python",
   "name": "python3"
  },
  "language_info": {
   "codemirror_mode": {
    "name": "ipython",
    "version": 3
   },
   "file_extension": ".py",
   "mimetype": "text/x-python",
   "name": "python",
   "nbconvert_exporter": "python",
   "pygments_lexer": "ipython3",
   "version": "3.6.8"
  }
 },
 "nbformat": 4,
 "nbformat_minor": 4
}
